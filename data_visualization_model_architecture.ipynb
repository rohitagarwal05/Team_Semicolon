{
 "cells": [
  {
   "cell_type": "markdown",
   "metadata": {
    "collapsed": true
   },
   "source": [
    "import pandas as pd\n",
    "import numpy as np\n",
    "from sklearn.utils import shuffle\n",
    "import os\n",
    "import h5py"
   ]
  },
  {
   "cell_type": "code",
   "execution_count": 1,
   "metadata": {
    "collapsed": true
   },
   "outputs": [],
   "source": [
    "import matplotlib.pyplot as plt\n",
    "import pandas as pd\n",
    "import numpy as np\n",
    "from sklearn.utils import shuffle\n",
    "import os\n",
    "import h5py"
   ]
  },
  {
   "cell_type": "code",
   "execution_count": 2,
   "metadata": {},
   "outputs": [
    {
     "name": "stderr",
     "output_type": "stream",
     "text": [
      "Using TensorFlow backend.\n"
     ]
    }
   ],
   "source": [
    "from keras.models import Sequential\n",
    "from keras.utils import np_utils\n",
    "from keras.layers.core import Dense, Dropout, Flatten, Activation\n",
    "from keras.layers.convolutional import Convolution2D, MaxPooling2D"
   ]
  },
  {
   "cell_type": "code",
   "execution_count": 3,
   "metadata": {},
   "outputs": [
    {
     "data": {
      "text/html": [
       "<div>\n",
       "<style>\n",
       "    .dataframe thead tr:only-child th {\n",
       "        text-align: right;\n",
       "    }\n",
       "\n",
       "    .dataframe thead th {\n",
       "        text-align: left;\n",
       "    }\n",
       "\n",
       "    .dataframe tbody tr th {\n",
       "        vertical-align: top;\n",
       "    }\n",
       "</style>\n",
       "<table border=\"1\" class=\"dataframe\">\n",
       "  <thead>\n",
       "    <tr style=\"text-align: right;\">\n",
       "      <th></th>\n",
       "      <th>emotion</th>\n",
       "      <th>pixels</th>\n",
       "      <th>Usage</th>\n",
       "    </tr>\n",
       "  </thead>\n",
       "  <tbody>\n",
       "    <tr>\n",
       "      <th>0</th>\n",
       "      <td>0</td>\n",
       "      <td>70 80 82 72 58 58 60 63 54 58 60 48 89 115 121...</td>\n",
       "      <td>Training</td>\n",
       "    </tr>\n",
       "    <tr>\n",
       "      <th>1</th>\n",
       "      <td>0</td>\n",
       "      <td>151 150 147 155 148 133 111 140 170 174 182 15...</td>\n",
       "      <td>Training</td>\n",
       "    </tr>\n",
       "    <tr>\n",
       "      <th>2</th>\n",
       "      <td>2</td>\n",
       "      <td>231 212 156 164 174 138 161 173 182 200 106 38...</td>\n",
       "      <td>Training</td>\n",
       "    </tr>\n",
       "    <tr>\n",
       "      <th>3</th>\n",
       "      <td>4</td>\n",
       "      <td>24 32 36 30 32 23 19 20 30 41 21 22 32 34 21 1...</td>\n",
       "      <td>Training</td>\n",
       "    </tr>\n",
       "    <tr>\n",
       "      <th>4</th>\n",
       "      <td>6</td>\n",
       "      <td>4 0 0 0 0 0 0 0 0 0 0 0 3 15 23 28 48 50 58 84...</td>\n",
       "      <td>Training</td>\n",
       "    </tr>\n",
       "  </tbody>\n",
       "</table>\n",
       "</div>"
      ],
      "text/plain": [
       "   emotion                                             pixels     Usage\n",
       "0        0  70 80 82 72 58 58 60 63 54 58 60 48 89 115 121...  Training\n",
       "1        0  151 150 147 155 148 133 111 140 170 174 182 15...  Training\n",
       "2        2  231 212 156 164 174 138 161 173 182 200 106 38...  Training\n",
       "3        4  24 32 36 30 32 23 19 20 30 41 21 22 32 34 21 1...  Training\n",
       "4        6  4 0 0 0 0 0 0 0 0 0 0 0 3 15 23 28 48 50 58 84...  Training"
      ]
     },
     "execution_count": 3,
     "metadata": {},
     "output_type": "execute_result"
    }
   ],
   "source": [
    "# first we ll focus on retriving image from csv column\n",
    "# the values are stored in a string in image column\n",
    "# so, we ll first extract out values and put into array, convert it to numpy array\n",
    "# and then resize into (48,48)\n",
    "# then append one by one all rows into an array, convert the bigger array to numpy\n",
    "\n",
    "df = pd.read_csv(os.path.abspath('fer2013') + '/fer2013.csv')\n",
    "df.head(5)"
   ]
  },
  {
   "cell_type": "code",
   "execution_count": 13,
   "metadata": {
    "collapsed": true
   },
   "outputs": [],
   "source": [
    "def extractFromStr(df):\n",
    "    \n",
    "    imgArray = []\n",
    "    \n",
    "    for img in df['pixels']:\n",
    "        numberArray = []\n",
    "        \n",
    "        #print(img.split(' '))\n",
    "        for number in img.split(' '):\n",
    "            numberArray.append(number)\n",
    "            \n",
    "        numberArray = np.array(numberArray, dtype = np.int)\n",
    "        numberArray = np.reshape(numberArray, (48, 48, 1))\n",
    "        \n",
    "        imgArray.append(numberArray)\n",
    "        \n",
    "    imgArray = np.array(imgArray)\n",
    "    print(imgArray.shape)\n",
    "    \n",
    "    return imgArray"
   ]
  },
  {
   "cell_type": "code",
   "execution_count": 14,
   "metadata": {
    "scrolled": true
   },
   "outputs": [
    {
     "name": "stdout",
     "output_type": "stream",
     "text": [
      "(35887, 48, 48, 1)\n"
     ]
    }
   ],
   "source": [
    "allImgArray = extractFromStr(df)"
   ]
  },
  {
   "cell_type": "code",
   "execution_count": 15,
   "metadata": {},
   "outputs": [
    {
     "data": {
      "text/plain": [
       "(35887,)"
      ]
     },
     "execution_count": 15,
     "metadata": {},
     "output_type": "execute_result"
    }
   ],
   "source": [
    "# now we ll bring up the labels too\n",
    "\n",
    "labels = np.array(df['emotion'])\n",
    "labels.shape"
   ]
  },
  {
   "cell_type": "code",
   "execution_count": 16,
   "metadata": {
    "collapsed": true
   },
   "outputs": [],
   "source": [
    "# now we ll shuffle the data with images and labels together\n",
    "\n",
    "data, labelShuffle = shuffle(allImgArray, labels, random_state = 2)"
   ]
  },
  {
   "cell_type": "code",
   "execution_count": 17,
   "metadata": {},
   "outputs": [
    {
     "name": "stdout",
     "output_type": "stream",
     "text": [
      "4\n"
     ]
    },
    {
     "data": {
      "image/png": "[encoded data removed]",
      "text/plain": [
       "<matplotlib.figure.Figure at 0x7fc35c221b70>"
      ]
     },
     "metadata": {},
     "output_type": "display_data"
    }
   ],
   "source": [
    "# now let us see the image along with its label\n",
    "\n",
    "imgId = 3\n",
    "\n",
    "imgPlot = np.reshape(data[imgId], (48, 48))\n",
    "\n",
    "plt.imshow(imgPlot, cmap = 'gray')\n",
    "#plt.xlabel(labelShuffle[imgId])\n",
    "print(labelShuffle[imgId])\n",
    "plt.show()"
   ]
  },
  {
   "cell_type": "code",
   "execution_count": 18,
   "metadata": {},
   "outputs": [
    {
     "data": {
      "text/plain": [
       "array([ 0.,  0.,  0.,  0.,  1.,  0.,  0.])"
      ]
     },
     "execution_count": 18,
     "metadata": {},
     "output_type": "execute_result"
    }
   ],
   "source": [
    "# now we ll go into building cnn\n",
    "\n",
    "#first choosing the hyper parameters\n",
    "batchSize = 512\n",
    "epochs = 30 # we ll do in total 300 epochs, in gropus of 30, as model architecture is too big\n",
    "classes = 7\n",
    "\n",
    "# 0=Angry, 1=Disgust, 2=Fear, 3=Happy, 4=Sad, 5=Surprise, 6=Neutral\n",
    "\n",
    "# now we ll convert labels into one hot encodding\n",
    "\n",
    "labelsOneHot = np_utils.to_categorical(labelShuffle, classes)\n",
    "labelsOneHot[3]"
   ]
  },
  {
   "cell_type": "code",
   "execution_count": 19,
   "metadata": {
    "collapsed": true
   },
   "outputs": [],
   "source": [
    "# constructing model\n",
    "\n",
    "model = Sequential()\n",
    "\n",
    "# here we ll use zero padding to keep the shape same,\n",
    "# in the first layer we need to give input shape\n",
    "\n",
    "model.add(Convolution2D(filters = 32, kernel_size = (3, 3), padding = 'same', input_shape = (48, 48, 1)))\n",
    "convout1 = Activation('relu')\n",
    "model.add(convout1)\n",
    "\n",
    "model.add(Convolution2D(filters = 32, kernel_size = (3, 3), padding = 'same'))\n",
    "convout2 = Activation('relu')\n",
    "model.add(convout2)\n",
    "\n",
    "model.add(MaxPooling2D(pool_size = (2, 2), strides = (2, 2)))\n",
    "\n",
    "\n",
    "model.add(Convolution2D(filters = 64, kernel_size = (3, 3), padding = 'same'))\n",
    "convout3 = Activation('relu')\n",
    "model.add(convout3)\n",
    "\n",
    "model.add(Convolution2D(filters = 64, kernel_size = (3, 3), padding = 'same'))\n",
    "convout4 = Activation('relu')\n",
    "model.add(convout4)\n",
    "\n",
    "model.add(MaxPooling2D(pool_size = (2, 2), strides = (2, 2)))\n",
    "\n",
    "\n",
    "model.add(Convolution2D(filters = 128, kernel_size = (3, 3), padding = 'same'))\n",
    "convout5 = Activation('relu')\n",
    "model.add(convout5)\n",
    "\n",
    "model.add(Convolution2D(filters = 128, kernel_size = (3, 3), padding = 'same'))\n",
    "convout6 = Activation('relu')\n",
    "model.add(convout6)\n",
    "\n",
    "model.add(MaxPooling2D(pool_size = (2, 2), strides = (2, 2)))\n",
    "            \n",
    "model.add(Flatten())\n",
    "model.add(Dense(1024))\n",
    "model.add(Activation('relu'))\n",
    "model.add(Dropout(0.5))\n",
    "model.add(Dense(512))\n",
    "model.add(Activation('relu'))\n",
    "model.add(Dropout(0.5))\n",
    "model.add(Dense(7))\n",
    "model.add(Activation('softmax'))"
   ]
  },
  {
   "cell_type": "code",
   "execution_count": null,
   "metadata": {
    "collapsed": true
   },
   "outputs": [],
   "source": []
  }
 ],
 "metadata": {
  "kernelspec": {
   "display_name": "Python 3",
   "language": "python",
   "name": "python3"
  },
  "language_info": {
   "codemirror_mode": {
    "name": "ipython",
    "version": 3
   },
   "file_extension": ".py",
   "mimetype": "text/x-python",
   "name": "python",
   "nbconvert_exporter": "python",
   "pygments_lexer": "ipython3",
   "version": "3.5.2"
  }
 },
 "nbformat": 4,
 "nbformat_minor": 2
}
